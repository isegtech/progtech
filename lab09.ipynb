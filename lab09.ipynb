{
 "cells": [
  {
   "cell_type": "markdown",
   "metadata": {},
   "source": [
    "# lab 9\n",
    "\n",
    "Suppose you have the follwoing payoff matriz of a prisoner's dilemna\n",
    "$$\\begin{bmatrix} (2,2) & (0,3) \\\\ (3,0) & (1,1)  \\end{bmatrix}$$\n",
    "\n",
    "Player 0 may play 0 or 1 and player 1 may play 0 or 1. 0 is cooperate (our peace), 1 is not cooperate (war).\n"
   ]
  },
  {
   "cell_type": "markdown",
   "metadata": {},
   "source": [
    "**1.** Create a function that receives results from each one of the player and gives as results a tuple with the results."
   ]
  },
  {
   "cell_type": "code",
   "execution_count": 14,
   "metadata": {},
   "outputs": [],
   "source": [
    "\n",
    "\n",
    "\n"
   ]
  },
  {
   "cell_type": "markdown",
   "metadata": {},
   "source": [
    "**2.** Player 0 is the user that chooses between 0 a 1. Player 1 is a computer. Result is randomly generated.  "
   ]
  },
  {
   "cell_type": "code",
   "execution_count": 17,
   "metadata": {},
   "outputs": [
    {
     "name": "stdout",
     "output_type": "stream",
     "text": [
      "1 - war, 0 - peace: 1\n",
      "player 0: 1\n",
      "player 1: 0\n",
      "(3, 0)\n",
      "my result: 3\n"
     ]
    }
   ],
   "source": []
  },
  {
   "cell_type": "markdown",
   "metadata": {},
   "source": [
    "**3.** Calculate the accumulated value resulting from an iterative game (10 iterations)"
   ]
  },
  {
   "cell_type": "code",
   "execution_count": 19,
   "metadata": {},
   "outputs": [
    {
     "name": "stdout",
     "output_type": "stream",
     "text": [
      "1 - war, 0 - peace: 1\n",
      "player0: 1\n",
      "player1: 1\n",
      "(1, 1)\n",
      "1\n",
      "1 - war, 0 - peace: 1\n",
      "player0: 1\n",
      "player1: 0\n",
      "(3, 0)\n",
      "4\n",
      "1 - war, 0 - peace: 1\n",
      "player0: 1\n",
      "player1: 0\n",
      "(3, 0)\n",
      "7\n",
      "1 - war, 0 - peace: 1\n",
      "player0: 1\n",
      "player1: 1\n",
      "(1, 1)\n",
      "8\n",
      "1 - war, 0 - peace: 1\n",
      "player0: 1\n",
      "player1: 0\n",
      "(3, 0)\n",
      "11\n",
      "1 - war, 0 - peace: 1\n",
      "player0: 1\n",
      "player1: 0\n",
      "(3, 0)\n",
      "14\n",
      "1 - war, 0 - peace: 1\n",
      "player0: 1\n",
      "player1: 1\n",
      "(1, 1)\n",
      "15\n",
      "1 - war, 0 - peace: 1\n",
      "player0: 1\n",
      "player1: 1\n",
      "(1, 1)\n",
      "16\n",
      "1 - war, 0 - peace: 1\n",
      "player0: 1\n",
      "player1: 1\n",
      "(1, 1)\n",
      "17\n",
      "1 - war, 0 - peace: 1\n",
      "player0: 1\n",
      "player1: 1\n",
      "(1, 1)\n",
      "18\n"
     ]
    }
   ],
   "source": []
  },
  {
   "cell_type": "code",
   "execution_count": null,
   "metadata": {},
   "outputs": [],
   "source": []
  }
 ],
 "metadata": {
  "kernelspec": {
   "display_name": "Python 3",
   "language": "python",
   "name": "python3"
  },
  "language_info": {
   "codemirror_mode": {
    "name": "ipython",
    "version": 3
   },
   "file_extension": ".py",
   "mimetype": "text/x-python",
   "name": "python",
   "nbconvert_exporter": "python",
   "pygments_lexer": "ipython3",
   "version": "3.7.0"
  }
 },
 "nbformat": 4,
 "nbformat_minor": 2
}
